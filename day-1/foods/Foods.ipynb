{
 "cells": [
  {
   "cell_type": "markdown",
   "metadata": {},
   "source": [
    "Classic from 2009. See [GF tutorial](https://www.grammaticalframework.org/doc/tutorial/gf-tutorial.html#toc16) and several concrete syntaxes at [gf-contrib](https://github.com/GrammaticalFramework/gf-contrib/tree/master/foods)."
   ]
  },
  {
   "cell_type": "code",
   "execution_count": 1,
   "metadata": {},
   "outputs": [
    {
     "data": {
      "text/plain": [
       "Defined Food"
      ]
     },
     "metadata": {},
     "output_type": "display_data"
    }
   ],
   "source": [
    "-- (c) 2009 Aarne Ranta under LGPL\n",
    "\n",
    "abstract Food = {\n",
    "  flags startcat = Comment ;\n",
    "  cat\n",
    "    Comment ;  -- Start category\n",
    "    Item ; \n",
    "    Kind ;     -- \"nouns\"\n",
    "    Quality ;  -- \"adjectives\"\n",
    "  fun\n",
    "    Pred : \n",
    "      Item -> Quality -> Comment ;       -- Predication: \"item is quality\"\n",
    "    \n",
    "    \n",
    "    This, That, These, Those :\n",
    "      Kind -> Item ; -- Quantification: turn the Kind (\"pizza\") into Item (\"this pizza\")\n",
    "    \n",
    "    Mod : \n",
    "     Quality -> Kind -> Kind ;  -- Modification: \"pizza\" to \"boring pizza\"\n",
    "\n",
    "    Wine, Cheese, Fish, Pizza : Kind ;        -- list of Kinds\n",
    "    \n",
    "    Very : Quality -> Quality ;               -- Enhance a Quality: \"boring\" to \"very boring\"\n",
    "    Fresh, Warm, Italian, Boring,\n",
    "         Expensive, Delicious : Quality ;     -- list of Qualities\n",
    "}"
   ]
  },
  {
   "cell_type": "code",
   "execution_count": 2,
   "metadata": {},
   "outputs": [
    {
     "data": {
      "text/plain": [
       "Pred (These Cheese) Italian\n"
      ]
     },
     "metadata": {},
     "output_type": "display_data"
    }
   ],
   "source": [
    "gr"
   ]
  },
  {
   "cell_type": "code",
   "execution_count": 4,
   "metadata": {},
   "outputs": [
    {
     "data": {
      "text/plain": [
       "Defined FoodEng"
      ]
     },
     "metadata": {},
     "output_type": "display_data"
    }
   ],
   "source": [
    "concrete FoodEng of Food = {\n",
    "    lincat\n",
    "      Comment = {s : Str} ;\n",
    "      Quality = {\n",
    "          s : Str ;\n",
    "          pq : PQual\n",
    "      } ;\n",
    "\n",
    "      Item = {s : Str ; n : Number} ;  -- Inherent Number\n",
    "    \n",
    "      Kind = {s : Number => Str ;\n",
    "              hasBoring, hasItalian : Bool\n",
    "             } ;     -- Variable Number\n",
    "\n",
    "    param\n",
    "      Number = Sg | Pl ;\n",
    "      Bool = True | False ;\n",
    "      PQual = PBoring | PItalian ;\n",
    "    \n",
    "    lin\n",
    "      {- : Item ->     (argument 1)\n",
    "          Quality ->    (argument 2)\n",
    "         Comment       (result / return type) -}\n",
    "      Pred item qual = {\n",
    "          s = case item.n of {\n",
    "              Sg => item.s ++ \"is\" ++ qual.s ;\n",
    "              Pl => item.s ++ \"are\" ++ qual.s }\n",
    "      } ;\n",
    "    \n",
    "      -- : Kind -> Item\n",
    "      This kind = {\n",
    "          s = \"this\" ++ kind.s ! Sg ;\n",
    "          n = Sg\n",
    "      } ;\n",
    "      Those kind = {\n",
    "          s = \"those\" ++ kind.s ! Pl ;\n",
    "          n = Pl\n",
    "      } ;\n",
    "    \n",
    "      -- : Quality -> Kind -> Kind\n",
    "      Mod qual kind = case qual.pq of {\n",
    "          PBoring => case kind.hasBoring of {\n",
    "                  True => kind ;\n",
    "                  False => kind ** {\n",
    "                      s = \\\\n => qual.s ++ kind.s ! n ;\n",
    "                      hasBoring = True }\n",
    "          } ;\n",
    "          PItalian => case kind.hasItalian of {\n",
    "                  True => kind ;\n",
    "                  False => kind ** {\n",
    "                      s = \\\\n => qual.s ++ kind.s ! n ;\n",
    "                      hasItalian = True} \n",
    "          } \n",
    "      } ;  \n",
    "    \n",
    "      Boring = {s = \"boring\" ; pq = PBoring} ;\n",
    "      Italian = {s = \"Italian\" ; pq = PItalian} ;  -- : Quality\n",
    "    \n",
    "      -- : Kind\n",
    "      Pizza = {s =\n",
    "                table {\n",
    "                  Sg => \"pizza\" ;\n",
    "                  Pl => \"pizzas\"\n",
    "                 } ;\n",
    "               hasBoring, hasItalian = False ;\n",
    "              } ;\n",
    "    \n",
    "    oper\n",
    "    \n",
    "      someFun : Str -> Str = \\_ -> \"always hello\" ;\n",
    "          \n",
    "      someTable : Number => Str = \n",
    "          \\\\n => \"always singular\" ;\n",
    "          -- shorthand for table {n => \"always singular\"} ;\n",
    "          -- shorthand for table {Sg => \"always singular ; Pl => \"always singular\"} ;\n",
    "}"
   ]
  },
  {
   "cell_type": "code",
   "execution_count": 7,
   "metadata": {},
   "outputs": [
    {
     "data": {
      "text/plain": [
       "Food: Pred (This (Mod Boring (Mod Boring Pizza))) Boring\n",
       "FoodEng: this boring pizza is boring\n",
       "Food: Pred (This (Mod Boring (Mod Boring Pizza))) Italian\n",
       "FoodEng: this boring pizza is Italian\n",
       "Food: Pred (This (Mod Boring (Mod Italian Pizza))) Boring\n",
       "FoodEng: this boring Italian pizza is boring\n",
       "Food: Pred (This (Mod Boring (Mod Italian Pizza))) Italian\n",
       "FoodEng: this boring Italian pizza is Italian\n",
       "Food: Pred (This (Mod Boring Pizza)) Boring\n",
       "FoodEng: this boring pizza is boring\n",
       "Food: Pred (This (Mod Boring Pizza)) Italian\n",
       "FoodEng: this boring pizza is Italian\n",
       "Food: Pred (This (Mod Italian (Mod Boring Pizza))) Boring\n",
       "FoodEng: this Italian boring pizza is boring\n",
       "Food: Pred (This (Mod Italian (Mod Boring Pizza))) Italian\n",
       "FoodEng: this Italian boring pizza is Italian\n",
       "Food: Pred (This (Mod Italian (Mod Italian Pizza))) Boring\n",
       "FoodEng: this Italian pizza is boring\n",
       "Food: Pred (This (Mod Italian (Mod Italian Pizza))) Italian\n",
       "FoodEng: this Italian pizza is Italian\n",
       "Food: Pred (This (Mod Italian Pizza)) Boring\n",
       "FoodEng: this Italian pizza is boring\n",
       "Food: Pred (This (Mod Italian Pizza)) Italian\n",
       "FoodEng: this Italian pizza is Italian\n",
       "Food: Pred (This Pizza) Boring\n",
       "FoodEng: this pizza is boring\n",
       "Food: Pred (This Pizza) Italian\n",
       "FoodEng: this pizza is Italian\n",
       "Food: Pred (Those (Mod Boring (Mod Boring Pizza))) Boring\n",
       "FoodEng: those boring pizzas are boring\n",
       "Food: Pred (Those (Mod Boring (Mod Boring Pizza))) Italian\n",
       "FoodEng: those boring pizzas are Italian\n",
       "Food: Pred (Those (Mod Boring (Mod Italian Pizza))) Boring\n",
       "FoodEng: those boring Italian pizzas are boring\n",
       "Food: Pred (Those (Mod Boring (Mod Italian Pizza))) Italian\n",
       "FoodEng: those boring Italian pizzas are Italian\n",
       "Food: Pred (Those (Mod Boring Pizza)) Boring\n",
       "FoodEng: those boring pizzas are boring\n",
       "Food: Pred (Those (Mod Boring Pizza)) Italian\n",
       "FoodEng: those boring pizzas are Italian\n",
       "Food: Pred (Those (Mod Italian (Mod Boring Pizza))) Boring\n",
       "FoodEng: those Italian boring pizzas are boring\n",
       "Food: Pred (Those (Mod Italian (Mod Boring Pizza))) Italian\n",
       "FoodEng: those Italian boring pizzas are Italian\n",
       "Food: Pred (Those (Mod Italian (Mod Italian Pizza))) Boring\n",
       "FoodEng: those Italian pizzas are boring\n",
       "Food: Pred (Those (Mod Italian (Mod Italian Pizza))) Italian\n",
       "FoodEng: those Italian pizzas are Italian\n",
       "Food: Pred (Those (Mod Italian Pizza)) Boring\n",
       "FoodEng: those Italian pizzas are boring\n",
       "Food: Pred (Those (Mod Italian Pizza)) Italian\n",
       "FoodEng: those Italian pizzas are Italian\n",
       "Food: Pred (Those Pizza) Boring\n",
       "FoodEng: those pizzas are boring\n",
       "Food: Pred (Those Pizza) Italian\n",
       "FoodEng: those pizzas are Italian\n"
      ]
     },
     "metadata": {},
     "output_type": "display_data"
    }
   ],
   "source": [
    "gt | l -treebank"
   ]
  },
  {
   "cell_type": "code",
   "execution_count": null,
   "metadata": {},
   "outputs": [],
   "source": []
  },
  {
   "cell_type": "markdown",
   "metadata": {},
   "source": [
    "### English concrete syntax from scratch\n",
    "\n",
    "We define our own inflection tables and agreement rules."
   ]
  },
  {
   "cell_type": "code",
   "execution_count": null,
   "metadata": {},
   "outputs": [],
   "source": [
    "concrete FoodEng of Food = {\n",
    "  \n",
    "    lincat\n",
    "      Comment, Quality = {s : Str} ;\n",
    "      Kind = Noun ;       -- Noun defined later in this file.\n",
    "      Item = NounPhrase ; -- NounPhrase defined later in this file.\n",
    "  \n",
    "    lin\n",
    "      -- Syntactic functions that take arguments\n",
    "      Pred item quality = {s = item.s ++ copula item.n ++ quality.s} ;\n",
    "      This kind  = det Sg \"this\" kind ;\n",
    "      That kind  = det Sg \"that\" kind ;\n",
    "      These kind = det Pl \"these\" kind ;\n",
    "      Those kind = det Pl \"those\" kind ;\n",
    "      Mod quality kind = {s = table {n => quality.s ++ kind.s ! n}} ;\n",
    "\n",
    "      -- Lexical functions, no arguments\n",
    "      Wine   = regNoun \"wine\" ;\n",
    "      Cheese = regNoun \"cheese\" ;\n",
    "      Fish   = noun \"fish\" \"fish\" ;\n",
    "      Pizza  = regNoun \"pizza\" ;\n",
    "      Very qual = {s = \"very\" ++ qual.s} ;\n",
    "      Fresh     = adj \"fresh\" ;\n",
    "      Warm      = adj \"warm\" ;\n",
    "      Italian   = adj \"Italian\" ;\n",
    "      Expensive = adj \"expensive\" ;\n",
    "      Delicious = adj \"delicious\" ;\n",
    "      Boring    = adj \"boring\" ;\n",
    "\n",
    "    param\n",
    "      Number = Sg | Pl ;\n",
    "  \n",
    "    oper\n",
    "      -- Defining our own record types.\n",
    "      -- They are used in the lincats.\n",
    "      Noun : Type = {s : Number => Str} ;\n",
    "      NounPhrase : Type = {s : Str ; n : Number} ;\n",
    "    \n",
    "      -- Makes Noun into a Noun phrase.\n",
    "      det : Number -> Str -> Noun -> NounPhrase =\n",
    "        \\n,d,cn -> {\n",
    "          s = d ++ cn.s ! n ;\n",
    "          n = n\n",
    "        } ;\n",
    "    \n",
    "      -- Constructs a noun from singular and plural.\n",
    "      noun : Str -> Str -> Noun =\n",
    "        \\man,men -> {s = table {\n",
    "          Sg => man ;\n",
    "          Pl => men\n",
    "          }\n",
    "        } ;\n",
    "      -- Regular noun: only takes singular, adds \"s\" to form plural.\n",
    "      regNoun : Str -> Noun =\n",
    "        \\car -> noun car (car + \"s\") ;\n",
    "    \n",
    "      -- Adjective is just a single string.\n",
    "      adj : Str -> {s : Str} =\n",
    "        \\red -> {s = red} ;\n",
    "  \n",
    "      -- Copula inflects in number.\n",
    "      copula : Number -> Str =\n",
    "        \\n -> case n of {\n",
    "          Sg => \"is\" ;\n",
    "          Pl => \"are\"\n",
    "          } ;\n",
    "    }"
   ]
  },
  {
   "cell_type": "markdown",
   "metadata": {},
   "source": [
    "### Italian concrete syntax using RGL modules\n",
    "\n",
    "We use the Resource Grammar Library to hide the linguistic details.\n",
    "\n",
    "See also Tutorial _[Lesson 4: Using the resource grammar library](https://www.grammaticalframework.org/doc/tutorial/gf-tutorial.html#toc69)_"
   ]
  },
  {
   "cell_type": "code",
   "execution_count": null,
   "metadata": {},
   "outputs": [],
   "source": [
    "concrete FoodIta of Food = open SyntaxIta, ParadigmsIta in {\n",
    "    lincat\n",
    "      Comment = S ;\n",
    "      Item = NP ;\n",
    "      Kind = CN ;\n",
    "      Quality = AP ;\n",
    "\n",
    "    lin\n",
    "      Pred item quality = mkS (mkCl item quality) ;\n",
    "      This kind = mkNP this_Det kind ;\n",
    "      That kind = mkNP that_Det kind ;\n",
    "      These kind = mkNP these_Det kind ;\n",
    "      Those kind = mkNP those_Det kind ;\n",
    "      Mod quality kind = mkCN quality kind ;\n",
    "      Very quality = mkAP very_AdA quality ;\n",
    "      Wine = mkCN (mkN \"vino\") ;\n",
    "      Pizza = mkCN (mkN \"pizza\") ;\n",
    "      Cheese = mkCN (mkN \"formaggio\") ;\n",
    "      Fish = mkCN (mkN \"pesce\") ;\n",
    "      Fresh = mkAP (mkA \"fresco\") ;\n",
    "      Warm = mkAP (mkA \"caldo\") ;\n",
    "      Italian = mkAP (mkA \"italiano\") ;\n",
    "      Expensive = mkAP (mkA \"caro\") ;\n",
    "      Delicious = mkAP (mkA \"delizioso\") ;\n",
    "      Boring = mkAP (mkA \"noioso\") ;\n",
    "}"
   ]
  },
  {
   "cell_type": "code",
   "execution_count": null,
   "metadata": {},
   "outputs": [],
   "source": [
    "parse -lang=Eng \"this pizza is boring\" | linearize -lang=Ita"
   ]
  },
  {
   "cell_type": "code",
   "execution_count": null,
   "metadata": {},
   "outputs": [],
   "source": [
    "view parse -lang=Eng \"this Italian pizza is very expensive\" | visualize_parse -lang=Eng"
   ]
  },
  {
   "cell_type": "code",
   "execution_count": null,
   "metadata": {},
   "outputs": [],
   "source": [
    "view p -lang=Ita \"questa pizza italiana è molto cara\" | vp -lang=Ita"
   ]
  },
  {
   "cell_type": "code",
   "execution_count": null,
   "metadata": {},
   "outputs": [],
   "source": []
  }
 ],
 "metadata": {
  "kernelspec": {
   "display_name": "GF",
   "language": "gf",
   "name": "gf"
  },
  "language_info": {
   "file_extension": ".gf",
   "mimetype": "text/gf",
   "name": "gf"
  }
 },
 "nbformat": 4,
 "nbformat_minor": 4
}
