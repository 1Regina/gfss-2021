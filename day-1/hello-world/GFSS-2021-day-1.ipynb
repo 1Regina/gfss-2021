{
 "cells": [
  {
   "cell_type": "code",
   "execution_count": 12,
   "metadata": {},
   "outputs": [
    {
     "data": {
      "text/plain": [
       "Abstract changed, previous concretes discarded.\n"
      ]
     },
     "metadata": {},
     "output_type": "display_data"
    }
   ],
   "source": [
    "abstract HelloWorld = {\n",
    "    flags startcat=Greeting ;\n",
    "    cat\n",
    "        Greeting ;\n",
    "        Recipient ;\n",
    "    fun\n",
    "        World, \n",
    "        Friends,\n",
    "        Mother,\n",
    "        Sisters : Recipient ;\n",
    "    \n",
    "    \n",
    "        Hello :      -- function\n",
    "         Recipient   -- argument\n",
    "         -> Greeting -- result (return type)\n",
    "         ;\n",
    "}"
   ]
  },
  {
   "cell_type": "code",
   "execution_count": 13,
   "metadata": {},
   "outputs": [
    {
     "data": {
      "text/plain": [
       "Hello Friends\n",
       "Hello Mother\n",
       "Hello Sisters\n",
       "Hello World\n"
      ]
     },
     "metadata": {},
     "output_type": "display_data"
    }
   ],
   "source": [
    "gt -cat=Greeting"
   ]
  },
  {
   "cell_type": "code",
   "execution_count": 14,
   "metadata": {},
   "outputs": [
    {
     "data": {
      "text/plain": [
       "Defined HelloWorldMay"
      ]
     },
     "metadata": {},
     "output_type": "display_data"
    }
   ],
   "source": [
    "concrete HelloWorldMay of HelloWorld = {\n",
    "    lincat\n",
    "        Greeting = Str ;\n",
    "        Recipient = Str ;\n",
    "    lin\n",
    "        World = \"dunia\" ;\n",
    "        Friends = \"kawan\" ;\n",
    "        Mother = \"ibu\" ;\n",
    "        Sisters = \"kakak\" ;\n",
    "    \n",
    "        Hello rec = \"apa khabar\" ++ rec ;\n",
    "}"
   ]
  },
  {
   "cell_type": "code",
   "execution_count": 15,
   "metadata": {},
   "outputs": [
    {
     "data": {
      "text/plain": [
       "Defined HelloWorldEng"
      ]
     },
     "metadata": {},
     "output_type": "display_data"
    }
   ],
   "source": [
    "concrete HelloWorldEng of HelloWorld = {\n",
    "    lincat\n",
    "        Greeting = Str ;\n",
    "        Recipient = Str ;\n",
    "    lin\n",
    "        World = \"world\" ;\n",
    "        Friends = \"friends\" ;\n",
    "        Mother = \"mother\" ;\n",
    "        Sisters = \"sisters\" ;\n",
    "    \n",
    "        Hello rec = \"hello\" ++ rec ;\n",
    "}"
   ]
  },
  {
   "cell_type": "code",
   "execution_count": 16,
   "metadata": {},
   "outputs": [
    {
     "data": {
      "text/plain": [
       "HelloWorld: Hello Friends\n",
       "HelloWorldEng: hello friends\n",
       "HelloWorldMay: apa khabar kawan\n",
       "HelloWorld: Hello Mother\n",
       "HelloWorldEng: hello mother\n",
       "HelloWorldMay: apa khabar ibu\n",
       "HelloWorld: Hello Sisters\n",
       "HelloWorldEng: hello sisters\n",
       "HelloWorldMay: apa khabar kakak\n",
       "HelloWorld: Hello World\n",
       "HelloWorldEng: hello world\n",
       "HelloWorldMay: apa khabar dunia\n"
      ]
     },
     "metadata": {},
     "output_type": "display_data"
    }
   ],
   "source": [
    "gt | l -treebank"
   ]
  },
  {
   "cell_type": "code",
   "execution_count": 36,
   "metadata": {},
   "outputs": [
    {
     "data": {
      "text/plain": [
       "Abstract changed, previous concretes discarded.\n"
      ]
     },
     "metadata": {},
     "output_type": "display_data"
    }
   ],
   "source": [
    "concrete HelloWorldIce of HelloWorld = {\n",
    "    lincat\n",
    "        Greeting = Str ; -- start category, final, not open\n",
    "    \n",
    "        Recipient = LinRecipient ;\n",
    "\n",
    "    param\n",
    "        Number = Sg | Pl ;\n",
    "        Gender = F | M ;\n",
    "-- Two alternative syntaxes for a param that consists of multiple params\n",
    "        -- 1) using a record\n",
    "        Agr = Ag {n : Number ; g : Gender} ;\n",
    "\n",
    "        -- 2) no record\n",
    "        --Agr = Ag Number Gender ;\n",
    "\n",
    "    lin\n",
    "        World   = mkRecipient \"heimur\" Sg M ;\n",
    "        Friends = mkRecipient \"vinir\" Pl M ;\n",
    "        Mother = mkRecipient \"mamma\" Sg F ;\n",
    "        Sisters = mkRecipient \"systur\" Pl F ;\n",
    "    \n",
    "        Hello rec = case rec.a of {\n",
    "            Ag {n=Sg ; g=M} => \"sæll\" ++ rec.s ;\n",
    "            Ag {n=Pl ; g=M} => \"sælir\" ++ rec.s ;\n",
    "            Ag {n=Sg ; g=F} => \"sæl\" ++ rec.s ;\n",
    "            Ag {n=Pl ; g=F} => \"sælar\" ++ rec.s\n",
    "        } ;\n",
    "    \n",
    "    oper\n",
    "        LinRecipient : Type = {s : Str ; a : Agr} ;    \n",
    "    \n",
    "        mkRecipient : Str ->         -- argument 1\n",
    "                      Number ->      -- argument 2\n",
    "                      Gender ->      -- argument 3\n",
    "                      LinRecipient ; -- result / return type\n",
    "        mkRecipient str num gen = {s=str ; a = Ag {n=num ; g =gen}} ;        \n",
    "    \n",
    "        \n",
    "}"
   ]
  },
  {
   "cell_type": "code",
   "execution_count": 37,
   "metadata": {},
   "outputs": [
    {
     "data": {
      "text/plain": [
       "HelloWorld: Hello Friends\n",
       "HelloWorldIce: sælir vinir\n",
       "HelloWorld: Hello Mother\n",
       "HelloWorldIce: sæl mamma\n",
       "HelloWorld: Hello Sisters\n",
       "HelloWorldIce: sælar systur\n",
       "HelloWorld: Hello World\n",
       "HelloWorldIce: sæll heimur\n"
      ]
     },
     "metadata": {},
     "output_type": "display_data"
    }
   ],
   "source": [
    "gt | l -treebank"
   ]
  },
  {
   "cell_type": "code",
   "execution_count": null,
   "metadata": {},
   "outputs": [],
   "source": []
  },
  {
   "cell_type": "code",
   "execution_count": null,
   "metadata": {},
   "outputs": [],
   "source": []
  },
  {
   "cell_type": "code",
   "execution_count": null,
   "metadata": {},
   "outputs": [],
   "source": []
  },
  {
   "cell_type": "code",
   "execution_count": null,
   "metadata": {},
   "outputs": [],
   "source": []
  },
  {
   "cell_type": "markdown",
   "metadata": {},
   "source": [
    "If your grammar doesn't have \"flags startcat\", it assumes that the start category is S."
   ]
  },
  {
   "cell_type": "code",
   "execution_count": 33,
   "metadata": {},
   "outputs": [
    {
     "data": {
      "text/plain": [
       "Defined MyGrammar"
      ]
     },
     "metadata": {},
     "output_type": "display_data"
    }
   ],
   "source": [
    "abstract MyGrammar = {\n",
    "    cat\n",
    "      S ; A ;\n",
    "    fun\n",
    "      a : A ;\n",
    "      b : A ;\n",
    "      toS : A -> S ;\n",
    "}"
   ]
  },
  {
   "cell_type": "code",
   "execution_count": 9,
   "metadata": {},
   "outputs": [
    {
     "data": {
      "text/plain": [
       "toS a\n",
       "toS b\n"
      ]
     },
     "metadata": {},
     "output_type": "display_data"
    }
   ],
   "source": [
    "gt"
   ]
  },
  {
   "cell_type": "code",
   "execution_count": 35,
   "metadata": {},
   "outputs": [
    {
     "data": {
      "text/plain": [
       "Defined MyGrammarEng"
      ]
     },
     "metadata": {},
     "output_type": "display_data"
    }
   ],
   "source": [
    "concrete MyGrammarEng of MyGrammar = {\n",
    "lin\n",
    "    a = {s=\"a\"} ;\n",
    "    b = {s=\"b\"} ;\n",
    "    toS a = a ;\n",
    "    \n",
    "param\n",
    "    Bool = True | False ;\n",
    "oper\n",
    "    foo : Bool -> Str ;\n",
    "    foo b = case b of {\n",
    "        True => \"true\" ;  -- Obligatory\n",
    "        False => \"false\"  -- No semicolon\n",
    "    } ; -- Obligatory semicolon\n",
    "    \n",
    "    bar : {a, b, c : Str} ;\n",
    "    bar = {\n",
    "        a = \"a\" ; -- Obligatory\n",
    "        b = \"b\" ; -- Obligatory\n",
    "        c = \"c\" ; -- Optional semicolon\n",
    "    } ; -- Obligatory semicolon\n",
    "    \n",
    "    \n",
    "}"
   ]
  },
  {
   "cell_type": "code",
   "execution_count": null,
   "metadata": {},
   "outputs": [],
   "source": []
  }
 ],
 "metadata": {
  "kernelspec": {
   "display_name": "GF",
   "language": "gf",
   "name": "gf"
  },
  "language_info": {
   "file_extension": ".gf",
   "mimetype": "text/gf",
   "name": "gf"
  }
 },
 "nbformat": 4,
 "nbformat_minor": 4
}
